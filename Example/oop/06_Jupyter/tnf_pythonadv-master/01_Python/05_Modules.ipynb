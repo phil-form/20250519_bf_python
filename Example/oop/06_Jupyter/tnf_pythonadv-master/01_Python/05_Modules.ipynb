{
 "cells": [
  {
   "cell_type": "code",
   "execution_count": 1,
   "source": [
    "import Modules.Fibonacci as fib\n",
    "from Modules.Fibonacci import fibonacci"
   ],
   "outputs": [],
   "metadata": {}
  },
  {
   "cell_type": "code",
   "execution_count": 4,
   "source": [
    "fib.fibonacci(70)"
   ],
   "outputs": [
    {
     "output_type": "execute_result",
     "data": {
      "text/plain": [
       "[0, 1, 1, 2, 3, 5, 8, 13, 21, 34, 55]"
      ]
     },
     "metadata": {},
     "execution_count": 4
    }
   ],
   "metadata": {}
  },
  {
   "cell_type": "code",
   "execution_count": 5,
   "source": [
    "fibonacci(70)"
   ],
   "outputs": [
    {
     "output_type": "execute_result",
     "data": {
      "text/plain": [
       "[0, 1, 1, 2, 3, 5, 8, 13, 21, 34, 55]"
      ]
     },
     "metadata": {},
     "execution_count": 5
    }
   ],
   "metadata": {}
  },
  {
   "cell_type": "markdown",
   "source": [
    "# Package VS Module\n",
    "\n",
    "a package is a group of module."
   ],
   "metadata": {}
  },
  {
   "cell_type": "markdown",
   "source": [
    "# important modules"
   ],
   "metadata": {}
  },
  {
   "cell_type": "code",
   "execution_count": 6,
   "source": [
    "import math         # math toolkit\n",
    "import random       # generate random number\n",
    "import statistics   # statistics toolkit\n",
    "import os           # operating system toolkit\n",
    "import glob         # "
   ],
   "outputs": [],
   "metadata": {}
  },
  {
   "cell_type": "markdown",
   "source": [
    "# MATH"
   ],
   "metadata": {}
  },
  {
   "cell_type": "code",
   "execution_count": 7,
   "source": [
    "print(math.sin(2*math.pi))\n",
    "print(math.exp(5))"
   ],
   "outputs": [
    {
     "output_type": "stream",
     "name": "stdout",
     "text": [
      "-2.4492935982947064e-16\n",
      "148.4131591025766\n"
     ]
    }
   ],
   "metadata": {}
  },
  {
   "cell_type": "markdown",
   "source": [
    "# RANDOM"
   ],
   "metadata": {}
  },
  {
   "cell_type": "code",
   "execution_count": 58,
   "source": [
    "list1 = [\"Bach\", \"Bruckner\", \"Vieuxtemps\", \"Wagner\"]\n",
    "print(random.choice(list1))\n",
    "\n",
    "random.seed(1) # used to save the state of a random function\n",
    "print(random.choice(list1))\n",
    "print(random.random())\n",
    "print(random.randint(55, 100))\n",
    "print(random.randrange(100))\n",
    "print(random.sample(list1, 2))\n",
    "print(random.shuffle(fibonacci(100)))"
   ],
   "outputs": [
    {
     "output_type": "stream",
     "name": "stdout",
     "text": [
      "Wagner\n",
      "Bruckner\n",
      "0.5692038748222122\n",
      "59\n",
      "32\n",
      "['Bach', 'Bruckner']\n",
      "None\n"
     ]
    }
   ],
   "metadata": {}
  },
  {
   "cell_type": "markdown",
   "source": [
    "# STATISTICS"
   ],
   "metadata": {}
  },
  {
   "cell_type": "code",
   "execution_count": 59,
   "source": [
    "list2 = [55, 21, 34, 65, 74, 25, 38]\n",
    "print(statistics.variance(list2))\n",
    "print(statistics.mean(list2))"
   ],
   "outputs": [
    {
     "output_type": "stream",
     "name": "stdout",
     "text": [
      "414.2857142857143\n",
      "44.57142857142857\n"
     ]
    }
   ],
   "metadata": {}
  },
  {
   "cell_type": "markdown",
   "source": [
    "# OS"
   ],
   "metadata": {}
  },
  {
   "cell_type": "code",
   "execution_count": 60,
   "source": [
    "os.getcwd()"
   ],
   "outputs": [
    {
     "output_type": "execute_result",
     "data": {
      "text/plain": [
       "'/home/rmdir/Documents/Formations/Python/Data/01_Python'"
      ]
     },
     "metadata": {},
     "execution_count": 60
    }
   ],
   "metadata": {}
  },
  {
   "cell_type": "markdown",
   "source": [
    "# GLOB"
   ],
   "metadata": {}
  },
  {
   "cell_type": "code",
   "execution_count": 64,
   "source": [
    "print(glob.glob(\"*\"))\n",
    "print(glob.glob(\"*.txt\"))\n",
    "\n",
    "filenames = glob.glob(\"*.txt\")\n",
    "\n",
    "for file in filenames:\n",
    "    # process data\n",
    "    print(file)\n",
    "    with open(file, 'r') as f:\n",
    "        print(f.readlines())"
   ],
   "outputs": [
    {
     "output_type": "stream",
     "name": "stdout",
     "text": [
      "['01_Variable.ipynb', 'Modules', '05_Modules.ipynb', '02_ControlStructure.ipynb', '04_functions.ipynb', 'file2.txt', '03_DataStructure.ipynb', 'myFile.txt', '06_OOP.ipynb']\n",
      "['file2.txt', 'myFile.txt']\n",
      "file2.txt\n",
      "['Bach\\n', 'Beethoven\\n', 'Mozart\\n', 'Stravinsky\\n', 'Vieuxtemps\\n', 'Wagner\\n', 'Bruckner\\n', 'Paganini\\n', 'Brahms\\n', 'Schostakovitch']\n",
      "myFile.txt\n",
      "['I want to add this line!\\n', 'I want to add this line!\\n', 'I want to add this line!\\n', 'I want to add this line!\\n']\n"
     ]
    }
   ],
   "metadata": {}
  }
 ],
 "metadata": {
  "orig_nbformat": 4,
  "language_info": {
   "name": "python",
   "version": "3.9.5",
   "mimetype": "text/x-python",
   "codemirror_mode": {
    "name": "ipython",
    "version": 3
   },
   "pygments_lexer": "ipython3",
   "nbconvert_exporter": "python",
   "file_extension": ".py"
  },
  "kernelspec": {
   "name": "python3",
   "display_name": "Python 3.9.5 64-bit"
  },
  "interpreter": {
   "hash": "916dbcbb3f70747c44a77c7bcd40155683ae19c65e1c03b4aa3499c5328201f1"
  }
 },
 "nbformat": 4,
 "nbformat_minor": 2
}