{
 "cells": [
  {
   "cell_type": "code",
   "execution_count": 1,
   "source": [
    "class Pen:\n",
    "    def __init__(self, ink_level, color, brand) -> None:\n",
    "        self.ink_level = ink_level\n",
    "        self.color = color\n",
    "        self.brand = brand\n",
    "    \n",
    "    def write(self, sentence):\n",
    "        self.ink_level -= len(sentence)\n",
    "        print(sentence)\n",
    "\n",
    "    def refill(self):\n",
    "        self.ink_level = 100"
   ],
   "outputs": [],
   "metadata": {}
  }
 ],
 "metadata": {
  "orig_nbformat": 4,
  "language_info": {
   "name": "python",
   "version": "3.9.5",
   "mimetype": "text/x-python",
   "codemirror_mode": {
    "name": "ipython",
    "version": 3
   },
   "pygments_lexer": "ipython3",
   "nbconvert_exporter": "python",
   "file_extension": ".py"
  },
  "kernelspec": {
   "name": "python3",
   "display_name": "Python 3.9.5 64-bit"
  },
  "interpreter": {
   "hash": "916dbcbb3f70747c44a77c7bcd40155683ae19c65e1c03b4aa3499c5328201f1"
  }
 },
 "nbformat": 4,
 "nbformat_minor": 2
}